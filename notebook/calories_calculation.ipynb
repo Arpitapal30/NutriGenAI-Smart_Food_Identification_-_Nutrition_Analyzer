{
 "cells": [
  {
   "cell_type": "code",
   "execution_count": 4,
   "metadata": {},
   "outputs": [],
   "source": [
    "import requests \n",
    "api_key = \"FSPykr8Va2qV6Vbv6ujcEA==060RIUnkbY3XF3YQ\""
   ]
  },
  {
   "cell_type": "code",
   "execution_count": 2,
   "metadata": {},
   "outputs": [],
   "source": [
    "query = 'Granny Smith'\n",
    "api_url = 'https://api.api-ninjas.com/v1/nutrition?query=Granny Smith'.format(query)\n"
   ]
  },
  {
   "cell_type": "markdown",
   "metadata": {},
   "source": [
    "### Make GET request with API key"
   ]
  },
  {
   "cell_type": "code",
   "execution_count": 5,
   "metadata": {},
   "outputs": [],
   "source": [
    "response = requests.get(api_url, headers={'X-Api-Key': api_key})"
   ]
  },
  {
   "cell_type": "markdown",
   "metadata": {},
   "source": [
    "### Check response status"
   ]
  },
  {
   "cell_type": "code",
   "execution_count": 6,
   "metadata": {},
   "outputs": [
    {
     "name": "stdout",
     "output_type": "stream",
     "text": [
      "[{\"name\": \"granny smith\", \"calories\": \"Only available for premium subscribers.\", \"serving_size_g\": \"Only available for premium subscribers.\", \"fat_total_g\": 0.2, \"fat_saturated_g\": 0.0, \"protein_g\": \"Only available for premium subscribers.\", \"sodium_mg\": 1, \"potassium_mg\": 12, \"cholesterol_mg\": 0, \"carbohydrates_total_g\": 13.4, \"fiber_g\": 2.8, \"sugar_g\": 9.5}]\n"
     ]
    }
   ],
   "source": [
    "if response.status_code == requests.codes.ok:\n",
    "    print(response.text)  # Print response text\n",
    "else:\n",
    "    print(\"Error:\", response.status_code, response.text) "
   ]
  }
 ],
 "metadata": {
  "kernelspec": {
   "display_name": "Python 3",
   "language": "python",
   "name": "python3"
  },
  "language_info": {
   "codemirror_mode": {
    "name": "ipython",
    "version": 3
   },
   "file_extension": ".py",
   "mimetype": "text/x-python",
   "name": "python",
   "nbconvert_exporter": "python",
   "pygments_lexer": "ipython3",
   "version": "3.12.5"
  }
 },
 "nbformat": 4,
 "nbformat_minor": 2
}
